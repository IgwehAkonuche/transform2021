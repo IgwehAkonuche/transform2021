{
 "cells": [
  {
   "cell_type": "markdown",
   "metadata": {},
   "source": [
    "<div>\n",
    "    <div style=\"float:left;width:50%;text-align:center\">\n",
    "        <h1>pyGIMLi Tutorial @ Transform 2021</h1>\n",
    "        <div>\n",
    "<table style=\"border-collapse:collapse;border-color:#ccc;border-spacing:0\" class=\"tg\"><thead><tr><th style=\"background-color:#f0f0f0;border-color:#ccc;border-style:solid;border-width:1px;color:#333;font-family:Arial, sans-serif;font-size:14px;font-weight:bold;overflow:hidden;padding:10px 5px;text-align:left;vertical-align:middle;word-break:normal\"></th><th style=\"background-color:#f0f0f0;border-color:#ccc;border-style:solid;border-width:1px;color:#333;font-family:Arial, sans-serif;font-size:14px;font-weight:bold;overflow:hidden;padding:10px 5px;text-align:left;vertical-align:middle;word-break:normal\">Info</th></tr></thead><tbody><tr><td style=\"background-color:#f9f9f9;border-color:#ccc;border-style:solid;border-width:1px;color:#333;font-family:Arial, sans-serif;font-size:14px;font-weight:bold;overflow:hidden;padding:10px 5px;text-align:left;vertical-align:middle;word-break:normal\">When</td><td style=\"background-color:#f9f9f9;border-color:#ccc;border-style:solid;border-width:1px;color:#333;font-family:Arial, sans-serif;font-size:14px;overflow:hidden;padding:10px 5px;text-align:left;vertical-align:middle;word-break:normal\">Monday, April 19 • 8:00 - 9:00 UTC (starts at 10.00 a.m. CET)</td></tr><tr><td style=\"background-color:#fff;border-color:#ccc;border-style:solid;border-width:1px;color:#333;font-family:Arial, sans-serif;font-size:14px;font-weight:bold;overflow:hidden;padding:10px 5px;text-align:left;vertical-align:middle;word-break:normal\">Slack (Q&amp;A)</td><td style=\"background-color:#fff;border-color:#ccc;border-style:solid;border-width:1px;color:#333;font-family:Arial, sans-serif;font-size:14px;overflow:hidden;padding:10px 5px;text-align:left;text-decoration:underline;vertical-align:top;word-break:normal\"><a href=\"https://softwareunderground.org/\">Software Underground</a> channel <a href=\"https://swung.slack.com/archives/C01T5V5S9EV\">#t21-mon-pygimli</a></td></tr><tr><td style=\"background-color:#f9f9f9;border-color:#ccc;border-style:solid;border-width:1px;color:#333;font-family:Arial, sans-serif;font-size:14px;font-weight:bold;overflow:hidden;padding:10px 5px;text-align:left;vertical-align:middle;word-break:normal\">Live stream</td><td style=\"background-color:#f9f9f9;border-color:#ccc;border-style:solid;border-width:1px;color:#333;font-family:Arial, sans-serif;font-size:14px;overflow:hidden;padding:10px 5px;text-align:left;text-decoration:underline;vertical-align:top;word-break:normal\"><a href=\"https://youtu.be/w3pu0H3dXe8\">https://youtu.be/w3pu0H3dXe8</a></td></tr><tr><td style=\"background-color:#fff;border-color:#ccc;border-style:solid;border-width:1px;color:#333;font-family:Arial, sans-serif;font-size:14px;font-weight:bold;overflow:hidden;padding:10px 5px;text-align:left;vertical-align:middle;word-break:normal\">pyGIMLi documentation</td><td style=\"background-color:#fff;border-color:#ccc;border-style:solid;border-width:1px;color:#333;font-family:Arial, sans-serif;font-size:14px;overflow:hidden;padding:10px 5px;text-align:left;text-decoration:underline;vertical-align:top;word-break:normal\"><a href=\"https://www.pygimli.org/documentation.html\">https://www.pygimli.org/documentation.html</a></td></tr></tbody></table>\n",
    "        </div>\n",
    "    </div>\n",
    "    <div style=\"float:right;width:30%\">\n",
    "        <img src=\"https://www.pygimli.org/_images/pg_logo.png\" alt=\"pyGIMLi logo\">\n",
    "    </div>\n",
    "</div>"
   ]
  },
  {
   "cell_type": "markdown",
   "metadata": {},
   "source": [
    "# Introduction to method managers: Traveltime inversion"
   ]
  },
  {
   "cell_type": "code",
   "execution_count": null,
   "metadata": {},
   "outputs": [],
   "source": [
    "# Just some plotting settings\n",
    "import matplotlib.pyplot as plt\n",
    "plt.style.use(\"seaborn-notebook\")\n",
    "%config InlineBackend.figure_format='svg' # Setting figure format for this notebook"
   ]
  },
  {
   "cell_type": "code",
   "execution_count": 6,
   "metadata": {},
   "outputs": [],
   "source": [
    "import numpy as np\n",
    "import pygimli as pg\n",
    "import pygimli.physics.traveltime as tt"
   ]
  },
  {
   "cell_type": "code",
   "execution_count": 11,
   "metadata": {},
   "outputs": [
    {
     "name": "stdout",
     "output_type": "stream",
     "text": [
      "Data: Sensors: 20 data: 100, nonzero entries: ['err', 'g', 's', 't', 'valid']\n"
     ]
    }
   ],
   "source": [
    "data = tt.load(\"traveltime.dat\")\n",
    "print(data)"
   ]
  },
  {
   "cell_type": "code",
   "execution_count": 13,
   "metadata": {},
   "outputs": [
    {
     "data": {
      "image/png": "[encoded data removed]",
      "text/plain": [
       "<Figure size 432x288 with 1 Axes>"
      ]
     },
     "metadata": {
      "needs_background": "light"
     },
     "output_type": "display_data"
    }
   ],
   "source": [
    "dx = 0.5\n",
    "x = np.arange(-10, 10.1, dx)\n",
    "y = np.arange(-25, 0.1, dx)\n",
    "grid = pg.meshtools.createMesh2D(x, y)\n",
    "ax, cb = pg.show(grid)\n",
    "ax.plot(pg.x(data), pg.y(data), \"ro\");"
   ]
  },
  {
   "cell_type": "code",
   "execution_count": 15,
   "metadata": {},
   "outputs": [
    {
     "name": "stdout",
     "output_type": "stream",
     "text": [
      "<pygimli.physics.traveltime.TravelTimeManager.TravelTimeManager object at 0x000001AB1EA991C0>\n"
     ]
    }
   ],
   "source": [
    "mgr = tt.TravelTimeManager(data)\n",
    "print(mgr) # shit"
   ]
  },
  {
   "cell_type": "code",
   "execution_count": 19,
   "metadata": {},
   "outputs": [
    {
     "name": "stdout",
     "output_type": "stream",
     "text": [
      "99 data of 100 not shown\n"
     ]
    },
    {
     "data": {
      "text/plain": [
       "((<matplotlib.image.AxesImage at 0x1ab42a8db80>,\n",
       "  <matplotlib.colorbar.Colorbar at 0x1ab426fb100>),\n",
       " None)"
      ]
     },
     "execution_count": 19,
     "metadata": {},
     "output_type": "execute_result"
    },
    {
     "data": {
      "image/png": "[encoded data removed]",
      "text/plain": [
       "<Figure size 432x288 with 2 Axes>"
      ]
     },
     "metadata": {
      "needs_background": "light"
     },
     "output_type": "display_data"
    }
   ],
   "source": [
    "mgr.showData()"
   ]
  },
  {
   "cell_type": "code",
   "execution_count": 16,
   "metadata": {},
   "outputs": [
    {
     "name": "stderr",
     "output_type": "stream",
     "text": [
      "18/04/21 - 11:33:44 - pyGIMLi - \u001b[0;32;49mINFO\u001b[0m - Found 1 regions.\n",
      "18/04/21 - 11:33:44 - pyGIMLi - \u001b[0;32;49mINFO\u001b[0m - Creating forward mesh from region infos.\n",
      "18/04/21 - 11:33:44 - pyGIMLi - \u001b[0;32;49mINFO\u001b[0m - Creating refined mesh (secnodes: 2) to solve forward task.\n",
      "18/04/21 - 11:33:44 - pyGIMLi - \u001b[0;32;49mINFO\u001b[0m - Create gradient starting model. 500: 5000\n",
      "18/04/21 - 11:33:44 - pyGIMLi - \u001b[0;32;49mINFO\u001b[0m - Created startmodel from forward operator: [0.0002     0.0002     0.0002     ... 0.00022318 0.00022318 0.00022318]\n"
     ]
    },
    {
     "data": {
      "text/plain": [
       "(<AxesSubplot:>, <matplotlib.colorbar.Colorbar at 0x1ab2040ec70>)"
      ]
     },
     "execution_count": 16,
     "metadata": {},
     "output_type": "execute_result"
    },
    {
     "data": {
      "image/png": "[encoded data removed]",
      "text/plain": [
       "<Figure size 432x288 with 2 Axes>"
      ]
     },
     "metadata": {
      "needs_background": "light"
     },
     "output_type": "display_data"
    }
   ],
   "source": [
    "mgr.invert(data, mesh=grid, verbose=True)\n",
    "mgr.showResult()"
   ]
  },
  {
   "cell_type": "code",
   "execution_count": null,
   "metadata": {},
   "outputs": [],
   "source": []
  }
 ],
 "metadata": {
  "kernelspec": {
   "display_name": "Python 3",
   "language": "python",
   "name": "python3"
  },
  "language_info": {
   "codemirror_mode": {
    "name": "ipython",
    "version": 3
   },
   "file_extension": ".py",
   "mimetype": "text/x-python",
   "name": "python",
   "nbconvert_exporter": "python",
   "pygments_lexer": "ipython3",
   "version": "3.8.8"
  }
 },
 "nbformat": 4,
 "nbformat_minor": 4
}
